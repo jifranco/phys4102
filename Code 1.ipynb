{
 "cells": [
  {
   "cell_type": "markdown",
   "id": "8ea3d62e",
   "metadata": {},
   "source": [
    "# Problem 1"
   ]
  },
  {
   "cell_type": "code",
   "execution_count": 50,
   "id": "3a461080",
   "metadata": {},
   "outputs": [
    {
     "name": "stdout",
     "output_type": "stream",
     "text": [
      "Josue Franco\n"
     ]
    }
   ],
   "source": [
    "print('Josue Franco')"
   ]
  },
  {
   "cell_type": "markdown",
   "id": "c143d684",
   "metadata": {},
   "source": [
    "# Problem 2"
   ]
  },
  {
   "cell_type": "markdown",
   "id": "c915a24b",
   "metadata": {},
   "source": [
    "Newton's Gravitational Law\n",
    "\n",
    "$F = G(\\frac{M m} {r^2})$\n",
    "\n",
    "Centripetal Force\n",
    "\n",
    "$F = \\frac{mv^2}{r} = m\\omega^2 r$\n",
    "\n",
    "Set them Equal to Each Other\n",
    "\n",
    "$m\\omega^2 r$ = $G(\\frac{M m} {r^2})$\n",
    "\n",
    "The small m's cancel each other out\n",
    "\n",
    "$\\omega^2 r$ = $G(\\frac{M} {r^2})$\n",
    "\n",
    "Multiply the r to the left side and divide the Omega to the right side\n",
    "\n",
    "$r^3$ = $G(\\frac{M} {\\omega^2})$\n",
    "\n",
    "Cube Square root both sides\n",
    "\n",
    "$r$ = $(\\frac{GM} {\\omega^2})^{1/3}$\n",
    "\n",
    "Convert Omega to Orbital period using the frequency relation\n",
    "\n",
    "$\\frac {\\omega}{2\\pi} = f = \\frac {1}{T}$\n",
    "\n",
    "and Simplify to \n",
    "\n",
    "$\\omega = \\frac{2\\pi} {T}$\n",
    "\n",
    "Plug in to equation\n",
    "\n",
    "$(\\frac{G M T^2}{4 \\pi^2})^\\frac{1}{3}$\n",
    "\n",
    "For an object orbiting a planet of radius R at a distance h, substitute r and plug in \n",
    "\n",
    "$r = R + h$\n",
    "\n",
    "$R+h = (\\frac{G M T^2}{4 \\pi^2})^\\frac{1}{3} $\n",
    "\n",
    "Subtract R to the right side\n",
    "\n",
    "$h = (\\frac{G M T^2}{4 \\pi^2})^\\frac{1}{3} - R$\n",
    "\n",
    "\n",
    "Gravitational Force\n",
    "\n",
    "$G = 6.67 * 10^{-11} \\frac{m^3}{kg s^2}$\n",
    "\n",
    "Mass of the Earth\n",
    "\n",
    "$M = 5.97 * 10^{24} kg$\n",
    "\n",
    "Radius of the Earth\n",
    "\n",
    "$R = 6371 km$\n",
    "\n",
    "T is the period of the orbit in seconds\n"
   ]
  },
  {
   "cell_type": "code",
   "execution_count": 51,
   "id": "9ada86ad",
   "metadata": {},
   "outputs": [
    {
     "name": "stdout",
     "output_type": "stream",
     "text": [
      "Enter the period of the orbit in minutes: 90\n",
      "279321.6253728606\n"
     ]
    }
   ],
   "source": [
    "import numpy as np\n",
    "\n",
    "T = float(input(\"Enter the period of the orbit in minutes: \",)) *60\n",
    "\n",
    "G = 6.67e-11\n",
    "M = 5.97e24\n",
    "R = 6371e3\n",
    "\n",
    "h = ((G * M * T**2) / (4 * np.pi**2))**(1/3) - R\n",
    "\n",
    "print(h)"
   ]
  },
  {
   "cell_type": "code",
   "execution_count": 52,
   "id": "b931c2e0",
   "metadata": {},
   "outputs": [
    {
     "name": "stdout",
     "output_type": "stream",
     "text": [
      "-3615787.262745806\n"
     ]
    }
   ],
   "source": [
    "import numpy as np\n",
    "\n",
    "G = 6.67e-11\n",
    "M = 5.97e24\n",
    "R = 6371e3\n",
    "\n",
    "def altitude(T):\n",
    "    h = ((G * M * T**2) / (4 * np.pi**2))**(1/3) - R\n",
    "    return h\n",
    "\n",
    "geosynchronous_T = 24 * 60  \n",
    "altitude_geosynchronous = altitude(geosynchronous_T)\n",
    "\n",
    "print(altitude_geosynchronous)\n"
   ]
  },
  {
   "cell_type": "code",
   "execution_count": 53,
   "id": "548ac13a",
   "metadata": {},
   "outputs": [
    {
     "name": "stdout",
     "output_type": "stream",
     "text": [
      "At T = 90 minutes, the altitude is 279321.63 meters\n",
      "At T = 89 minutes, the altitude is 229968.31 meters\n",
      "At T = 88 minutes, the altitude is 180429.79 meters\n",
      "At T = 87 minutes, the altitude is 130703.27 meters\n",
      "At T = 86 minutes, the altitude is 80785.85 meters\n",
      "At T = 85 minutes, the altitude is 30674.58 meters\n",
      "At T = 84 minutes, the altitude is -19633.6 meters\n",
      "At T = 83 minutes, the altitude is -70141.82 meters\n",
      "At T = 82 minutes, the altitude is -120853.3 meters\n",
      "At T = 81 minutes, the altitude is -171771.34 meters\n",
      "At T = 80 minutes, the altitude is -222899.36 meters\n"
     ]
    }
   ],
   "source": [
    "import numpy as np\n",
    "\n",
    "G = 6.67e-11\n",
    "M = 5.97e24\n",
    "R = 6371e3\n",
    "\n",
    "def altitude(T):\n",
    "    h = ((G * M * T**2) / (4 * np.pi**2))**(1/3) - R\n",
    "    return round(h,2)\n",
    "\n",
    "T =  90\n",
    "while T>= 80:\n",
    "    alt = altitude(T*60)\n",
    "    print(f\"At T = {T} minutes, the altitude is {alt} meters\")\n",
    "    T -= 1\n",
    "\n",
    "\n",
    "\n",
    "\n",
    "\n"
   ]
  },
  {
   "cell_type": "markdown",
   "id": "c10c93fc",
   "metadata": {},
   "source": [
    "# Problem 3"
   ]
  },
  {
   "cell_type": "code",
   "execution_count": 54,
   "id": "1dc1e712",
   "metadata": {},
   "outputs": [
    {
     "name": "stdout",
     "output_type": "stream",
     "text": [
      "Enter the x-coordinate: 4\n",
      "Enter the y-coordinate: 4\n",
      "The polar coordinates are (r, phi) = (5.656854249492381, 45.0)\n"
     ]
    }
   ],
   "source": [
    "import math\n",
    "import numpy as np\n",
    "def cartesian_to_polar(x, y):\n",
    "    \n",
    "    r = math.sqrt(x**2 + y**2)\n",
    "#     phi = math.atan2(y, x)\n",
    "#     phi_degrees = math.degrees(phi)\n",
    "    phi_degrees = 0\n",
    "    \n",
    "    if (x < 0 and y > 0):\n",
    "        phi_radians = np.arctan(y / x) + np.pi\n",
    "        phi_degrees = phi_radians * (180/np.pi)\n",
    "    elif (x < 0 and y < 0):\n",
    "        phi_radians = np.arctan(y / x) + np.pi\n",
    "        phi_degrees = phi_radians * (180/np.pi)\n",
    "    elif (x > 0 and y < 0):\n",
    "        phi_radians = np.arctan(y / x) + 2*np.pi\n",
    "        phi_degrees = phi_radians * (180/np.pi)\n",
    "    elif (x > 0 and y > 0):\n",
    "        phi_radians = np.arctan(y / x)\n",
    "        phi_degrees = phi_radians * (180/np.pi)\n",
    "    \n",
    "    return r, phi_degrees\n",
    "\n",
    "# Test the function\n",
    "x = float(input(\"Enter the x-coordinate: \"))\n",
    "y = float(input(\"Enter the y-coordinate: \"))\n",
    "\n",
    "r, phi = cartesian_to_polar(x, y)\n",
    "print(f\"The polar coordinates are (r, phi) = ({r}, {phi})\")"
   ]
  },
  {
   "cell_type": "code",
   "execution_count": 57,
   "id": "eb5c9b63",
   "metadata": {},
   "outputs": [
    {
     "name": "stdout",
     "output_type": "stream",
     "text": [
      "Enter r-coordinate: 5.65\n",
      "Enter the phi-coordinate in degrees: 45\n",
      "Cartesian coordinates: x = 4.0, y = 4.0\n"
     ]
    }
   ],
   "source": [
    "import numpy as np\n",
    "\n",
    "def polar_to_cart(r, phi):\n",
    "    phi_radians = phi * (np.pi/180)\n",
    "    x_cart = r*np.cos(phi_radians)\n",
    "    y_cart = r* np.sin(phi_radians)\n",
    "    \n",
    "    return(round(x_cart,2),round(y_cart,2))\n",
    "\n",
    "r = float(input(\"Enter r-coordinate: \"))\n",
    "phi_degrees = float(input(\"Enter the phi-coordinate in degrees: \"))\n",
    "\n",
    "x, y = polar_to_cart(r, phi_degrees)\n",
    "print(f\"Cartesian coordinates: x = {x}, y = {y}\")"
   ]
  },
  {
   "cell_type": "markdown",
   "id": "ca80a510",
   "metadata": {},
   "source": [
    "# Problem 4"
   ]
  },
  {
   "cell_type": "markdown",
   "id": "fa7fefee",
   "metadata": {},
   "source": [
    "The Lorentz Invariant\n",
    "\n",
    "$ s = \\left(\\frac{E}{c}\\right)^2 - px^2 - py^2 - pz^2 $\n",
    "\n",
    "The Energy-Momentum relation\n",
    "\n",
    "$ E^2 = p^2c^2 + m^2c^4$\n",
    "\n",
    "Substitute it back in the Invariant Equation\n",
    "\n",
    "$ s = \\left(\\frac{\\sqrt{(pc)^2 + (mc^2)^2}}{c}\\right)^2 - px^2 - py^2 - pz^2 $\n",
    "\n",
    "Factor out the 1/c^2\n",
    "\n",
    "$ s = \\frac{1}{c^2}\\left({\\sqrt{(pc)^2 + (mc^2)^2}}\\right)^2 - px^2 - py^2 - pz^2 $\n",
    "\n",
    "Simplify Further by canceling out the square root and power of 2\n",
    "\n",
    "$s = \\frac{1}{c^2}\\left((pc)^2 - c^2p^2 + (mc)^2c^2\\right)$\n",
    "\n",
    "Factor Out $c^2$ and cancel out $\\frac{1}{c^2}$ and $c^2$\n",
    "\n",
    "$s= p^2 - p^2 + m^2c^2$\n",
    "\n",
    "Subtract the p's and square root both sides\n",
    "\n",
    "$\\sqrt{s} = mc$\n"
   ]
  },
  {
   "cell_type": "code",
   "execution_count": 36,
   "id": "9b83c3ff",
   "metadata": {},
   "outputs": [
    {
     "name": "stdout",
     "output_type": "stream",
     "text": [
      "0.94\n"
     ]
    }
   ],
   "source": [
    "\n",
    "\n",
    "def calculate_mass(energy_momentum):\n",
    "    if len(energy_momentum) != 4:\n",
    "        return -1\n",
    "    #spreads the list input into 4 variables\n",
    "    E, px, py, pz = energy_momentum\n",
    "    c = 1  # speed of light in natural units\n",
    "    #formula for finding the mass times the speed of light\n",
    "    mass_squared = (E**2 - (px**2 + py**2 + pz**2)) / c**2\n",
    "    #if mass is negative, then it will return a -1\n",
    "    if mass_squared < 0:\n",
    "        return -1\n",
    "    #rounds up the mass to two decimal places\n",
    "    return round(mass_squared**0.5,2)\n",
    "\n",
    "#particle at rest\n",
    "particle=[0.938, 0, 0, 0]\n",
    "print(calculate_mass(particle))\n",
    "    "
   ]
  },
  {
   "cell_type": "markdown",
   "id": "605a401d",
   "metadata": {},
   "source": [
    "## Part C"
   ]
  },
  {
   "cell_type": "code",
   "execution_count": 37,
   "id": "bc5e9396",
   "metadata": {},
   "outputs": [],
   "source": [
    "\n",
    "import numpy as np\n",
    "\n",
    "\n",
    "\n",
    "# Initialize the 2D array\n",
    "mass_array = np.zeros((10, 10))\n",
    "\n",
    "# Loop over energies and momenta\n",
    "for i in range(10):\n",
    "    for j in range(10):\n",
    "        E = i+1  # energy in GeV\n",
    "        px = j+1  # momentum in GeV/c\n",
    "        py = pz = 0\n",
    "        # if E >= px, then calculate mass\n",
    "        if E >= px:\n",
    "            mass_array[i, j] = calculate_mass([E, px, py, pz])\n",
    "        else:\n",
    "            mass_array[i, j] = -1\n",
    "\n",
    "# Save the array to a file\n",
    "np.savetxt('mass_array.txt', mass_array)\n",
    "\n",
    "\n",
    "\n",
    "\n",
    "# The particles on the diagonal of the array would likely be particles with equal energy and momentum (in units of c), such as photons.\n"
   ]
  },
  {
   "cell_type": "code",
   "execution_count": 38,
   "id": "6d34c997",
   "metadata": {},
   "outputs": [
    {
     "name": "stdout",
     "output_type": "stream",
     "text": [
      "[[ 0.   -1.   -1.   -1.   -1.   -1.   -1.   -1.   -1.   -1.  ]\n",
      " [ 1.73  0.   -1.   -1.   -1.   -1.   -1.   -1.   -1.   -1.  ]\n",
      " [ 2.83  2.24  0.   -1.   -1.   -1.   -1.   -1.   -1.   -1.  ]\n",
      " [ 3.87  3.46  2.65  0.   -1.   -1.   -1.   -1.   -1.   -1.  ]\n",
      " [ 4.9   4.58  4.    3.    0.   -1.   -1.   -1.   -1.   -1.  ]\n",
      " [ 5.92  5.66  5.2   4.47  3.32  0.   -1.   -1.   -1.   -1.  ]\n",
      " [ 6.93  6.71  6.32  5.74  4.9   3.61  0.   -1.   -1.   -1.  ]\n",
      " [ 7.94  7.75  7.42  6.93  6.24  5.29  3.87  0.   -1.   -1.  ]\n",
      " [ 8.94  8.77  8.49  8.06  7.48  6.71  5.66  4.12  0.   -1.  ]\n",
      " [ 9.95  9.8   9.54  9.17  8.66  8.    7.14  6.    4.36  0.  ]]\n"
     ]
    }
   ],
   "source": [
    "# Load the array from the file\n",
    "mass_array = np.loadtxt('mass_array.txt')\n",
    "\n",
    "# Print the result\n",
    "print(mass_array)\n"
   ]
  },
  {
   "cell_type": "markdown",
   "id": "8ee1c982",
   "metadata": {},
   "source": [
    "# Problem 5\n"
   ]
  },
  {
   "cell_type": "code",
   "execution_count": 41,
   "id": "695b4ee5",
   "metadata": {},
   "outputs": [
    {
     "name": "stdout",
     "output_type": "stream",
     "text": [
      "The binding energy with atomic number 28 and Atomic mass number 58 is 497.56MeV\n"
     ]
    }
   ],
   "source": [
    "def bindingEnergy(A, Z): #function to calculate the binding energy\n",
    "    #Constants given for equation\n",
    "    a1 = 15.8\n",
    "    a2 = 18.3\n",
    "    a3 = .714\n",
    "    a4 = 23.2\n",
    "    #Conditions for a5\n",
    "    if A%2 == 1:\n",
    "        a5 = 0\n",
    "    elif A%2 & Z%2 == 0:\n",
    "        a5 = 12\n",
    "    elif A%2==0 & Z%2==1:\n",
    "        a5 = -12\n",
    "    else:\n",
    "        print(\"A or Z are invalid\") \n",
    "        \n",
    "    #Splitting the full equation into parts\n",
    "    E_pt1= a1*A - a2*A**(2/3)\n",
    "    E_pt2 = a3* ((Z**2)/(A**(1/3)))\n",
    "    E_pt3 = a4*((A-2*Z)**2/A)\n",
    "    E_pt4 = (a5)/A**(1/2)\n",
    "    \n",
    "    #Combine the equation parts\n",
    "    Ebind = E_pt1 - E_pt2 - E_pt3 + E_pt4\n",
    "    \n",
    "#   Returns the binding energy\n",
    "#     return(Ebind)\n",
    "    \n",
    "    #returns binding energy per nucleon\n",
    "    E_per_nucleon = Ebind / A\n",
    "    return(round(Ebind,2),round(E_per_nucleon,2))\n",
    "    \n",
    "    \n",
    "    \n",
    "#Part A where it calculates A=58 and Z =28\n",
    "a=58\n",
    "z=28\n",
    "bind = (bindingEnergy(a, z))\n",
    "print(f\"The binding energy with atomic number {z} and Atomic mass number {a} is {bind[0]}MeV\")\n",
    "\n",
    "\n",
    "\n",
    "\n"
   ]
  },
  {
   "cell_type": "markdown",
   "id": "4dbddd05",
   "metadata": {},
   "source": [
    "# Part B"
   ]
  },
  {
   "cell_type": "code",
   "execution_count": 42,
   "id": "17fe9e72",
   "metadata": {},
   "outputs": [
    {
     "name": "stdout",
     "output_type": "stream",
     "text": [
      "For A = 28 and Z = 28, the binding energy is -558.02 MeV and the binding energy per nucleon is -19.93 MeV.\n",
      "For A = 29 and Z = 28, the binding energy is -479.94 MeV and the binding energy per nucleon is -16.55 MeV.\n",
      "For A = 30 and Z = 28, the binding energy is -403.42 MeV and the binding energy per nucleon is -13.45 MeV.\n",
      "For A = 31 and Z = 28, the binding energy is -336.73 MeV and the binding energy per nucleon is -10.86 MeV.\n",
      "For A = 32 and Z = 28, the binding energy is -270.65 MeV and the binding energy per nucleon is -8.46 MeV.\n",
      "For A = 33 and Z = 28, the binding energy is -213.3 MeV and the binding energy per nucleon is -6.46 MeV.\n",
      "For A = 34 and Z = 28, the binding energy is -155.85 MeV and the binding energy per nucleon is -4.58 MeV.\n",
      "For A = 35 and Z = 28, the binding energy is -106.26 MeV and the binding energy per nucleon is -3.04 MeV.\n",
      "For A = 36 and Z = 28, the binding energy is -56.03 MeV and the binding energy per nucleon is -1.56 MeV.\n",
      "For A = 37 and Z = 28, the binding energy is -12.94 MeV and the binding energy per nucleon is -0.35 MeV.\n",
      "For A = 38 and Z = 28, the binding energy is 31.19 MeV and the binding energy per nucleon is 0.82 MeV.\n",
      "For A = 39 and Z = 28, the binding energy is 68.76 MeV and the binding energy per nucleon is 1.76 MeV.\n",
      "For A = 40 and Z = 28, the binding energy is 107.7 MeV and the binding energy per nucleon is 2.69 MeV.\n",
      "For A = 41 and Z = 28, the binding energy is 140.55 MeV and the binding energy per nucleon is 3.43 MeV.\n",
      "For A = 42 and Z = 28, the binding energy is 175.03 MeV and the binding energy per nucleon is 4.17 MeV.\n",
      "For A = 43 and Z = 28, the binding energy is 203.83 MeV and the binding energy per nucleon is 4.74 MeV.\n",
      "For A = 44 and Z = 28, the binding energy is 234.44 MeV and the binding energy per nucleon is 5.33 MeV.\n",
      "For A = 45 and Z = 28, the binding energy is 259.72 MeV and the binding energy per nucleon is 5.77 MeV.\n",
      "For A = 46 and Z = 28, the binding energy is 286.97 MeV and the binding energy per nucleon is 6.24 MeV.\n",
      "For A = 47 and Z = 28, the binding energy is 309.17 MeV and the binding energy per nucleon is 6.58 MeV.\n",
      "For A = 48 and Z = 28, the binding energy is 333.47 MeV and the binding energy per nucleon is 6.95 MeV.\n",
      "For A = 49 and Z = 28, the binding energy is 352.98 MeV and the binding energy per nucleon is 7.2 MeV.\n",
      "For A = 50 and Z = 28, the binding energy is 374.68 MeV and the binding energy per nucleon is 7.49 MeV.\n",
      "For A = 51 and Z = 28, the binding energy is 391.81 MeV and the binding energy per nucleon is 7.68 MeV.\n",
      "For A = 52 and Z = 28, the binding energy is 411.2 MeV and the binding energy per nucleon is 7.91 MeV.\n",
      "For A = 53 and Z = 28, the binding energy is 426.23 MeV and the binding energy per nucleon is 8.04 MeV.\n",
      "For A = 54 and Z = 28, the binding energy is 443.57 MeV and the binding energy per nucleon is 8.21 MeV.\n",
      "For A = 55 and Z = 28, the binding energy is 456.72 MeV and the binding energy per nucleon is 8.3 MeV.\n",
      "For A = 56 and Z = 28, the binding energy is 472.23 MeV and the binding energy per nucleon is 8.43 MeV.\n",
      "For A = 57 and Z = 28, the binding energy is 483.7 MeV and the binding energy per nucleon is 8.49 MeV.\n",
      "For A = 58 and Z = 28, the binding energy is 497.56 MeV and the binding energy per nucleon is 8.58 MeV.\n",
      "For A = 59 and Z = 28, the binding energy is 507.53 MeV and the binding energy per nucleon is 8.6 MeV.\n",
      "For A = 60 and Z = 28, the binding energy is 519.91 MeV and the binding energy per nucleon is 8.67 MeV.\n",
      "For A = 61 and Z = 28, the binding energy is 528.51 MeV and the binding energy per nucleon is 8.66 MeV.\n",
      "For A = 62 and Z = 28, the binding energy is 539.55 MeV and the binding energy per nucleon is 8.7 MeV.\n",
      "For A = 63 and Z = 28, the binding energy is 546.93 MeV and the binding energy per nucleon is 8.68 MeV.\n",
      "For A = 64 and Z = 28, the binding energy is 556.76 MeV and the binding energy per nucleon is 8.7 MeV.\n",
      "For A = 65 and Z = 28, the binding energy is 563.02 MeV and the binding energy per nucleon is 8.66 MeV.\n",
      "For A = 66 and Z = 28, the binding energy is 571.74 MeV and the binding energy per nucleon is 8.66 MeV.\n",
      "For A = 67 and Z = 28, the binding energy is 577.0 MeV and the binding energy per nucleon is 8.61 MeV.\n",
      "For A = 68 and Z = 28, the binding energy is 584.71 MeV and the binding energy per nucleon is 8.6 MeV.\n",
      "For A = 69 and Z = 28, the binding energy is 589.04 MeV and the binding energy per nucleon is 8.54 MeV.\n",
      "For A = 70 and Z = 28, the binding energy is 595.82 MeV and the binding energy per nucleon is 8.51 MeV.\n",
      "For A = 71 and Z = 28, the binding energy is 599.32 MeV and the binding energy per nucleon is 8.44 MeV.\n",
      "For A = 72 and Z = 28, the binding energy is 605.25 MeV and the binding energy per nucleon is 8.41 MeV.\n",
      "For A = 73 and Z = 28, the binding energy is 607.97 MeV and the binding energy per nucleon is 8.33 MeV.\n",
      "For A = 74 and Z = 28, the binding energy is 613.13 MeV and the binding energy per nucleon is 8.29 MeV.\n",
      "For A = 75 and Z = 28, the binding energy is 615.14 MeV and the binding energy per nucleon is 8.2 MeV.\n",
      "For A = 76 and Z = 28, the binding energy is 619.58 MeV and the binding energy per nucleon is 8.15 MeV.\n",
      "For A = 77 and Z = 28, the binding energy is 620.93 MeV and the binding energy per nucleon is 8.06 MeV.\n",
      "For A = 78 and Z = 28, the binding energy is 624.71 MeV and the binding energy per nucleon is 8.01 MeV.\n",
      "For A = 79 and Z = 28, the binding energy is 625.46 MeV and the binding energy per nucleon is 7.92 MeV.\n",
      "For A = 80 and Z = 28, the binding energy is 628.62 MeV and the binding energy per nucleon is 7.86 MeV.\n",
      "For A = 81 and Z = 28, the binding energy is 628.82 MeV and the binding energy per nucleon is 7.76 MeV.\n",
      "For A = 82 and Z = 28, the binding energy is 631.42 MeV and the binding energy per nucleon is 7.7 MeV.\n",
      "For A = 83 and Z = 28, the binding energy is 631.1 MeV and the binding energy per nucleon is 7.6 MeV.\n",
      "For A = 84 and Z = 28, the binding energy is 633.16 MeV and the binding energy per nucleon is 7.54 MeV.\n"
     ]
    }
   ],
   "source": [
    "# #For Binding Energy per nucleon\n",
    "# #Binding Energy \n",
    "\n",
    "\n",
    "# bind = bindingEnergy(a, z)\n",
    "# print(f\"The binding energy per nucleon with atomic number {z} and Atomic mass number {a} is {bind[1]}\")\n",
    "\n",
    "# Part b\n",
    "for A in range(z, 3*z + 1):\n",
    "    #spreads the energy per nucleon and bindning energy into two variables\n",
    "    Ebind, E_per_nucleon = bindingEnergy(A, z)\n",
    "    print(f\"For A = {A} and Z = {z}, the binding energy is {Ebind} MeV and the binding energy per nucleon is {E_per_nucleon} MeV.\")\n",
    "\n"
   ]
  },
  {
   "cell_type": "code",
   "execution_count": 58,
   "id": "ff23c59a",
   "metadata": {},
   "outputs": [
    {
     "name": "stdout",
     "output_type": "stream",
     "text": [
      "The most stable isotope has Z = 25, A = 56 with maximum binding energy per nucleon = 8.7 MeV.\n",
      "I got Maganese as the most stable isotope, it's most likely wrong\n"
     ]
    }
   ],
   "source": [
    "#start energy per nucleon, atomic number, and atomic mass \n",
    "for Z in np.arange(1,51):\n",
    "    for A in np.arange(Z,3*Z+1):\n",
    "        Ebind, E_per_nucleon = bindingEnergy(A, Z)\n",
    "        if E_per_nucleon > max_E_per_nucleon:\n",
    "            max_E_per_nucleon = E_per_nucleon\n",
    "            max_Z = Z\n",
    "            max_A = A\n",
    "\n",
    "print(f\"The most stable isotope has Z = {max_Z}, A = {max_A} with maximum binding energy per nucleon = {max_E_per_nucleon} MeV.\")\n",
    "print(\"I got Maganese as the most stable isotope, it's most likely wrong\")"
   ]
  },
  {
   "cell_type": "markdown",
   "id": "d6f9bf0d",
   "metadata": {},
   "source": [
    "# Problem 6"
   ]
  },
  {
   "cell_type": "markdown",
   "id": "910035ac",
   "metadata": {},
   "source": [
    "## Part a"
   ]
  },
  {
   "cell_type": "code",
   "execution_count": 48,
   "id": "2de02f88",
   "metadata": {},
   "outputs": [
    {
     "name": "stdout",
     "output_type": "stream",
     "text": [
      "[1. 0.]\n",
      "[0.9961947  0.08715574]\n",
      "[0.98480775 0.17364818]\n",
      "[0.96592583 0.25881905]\n",
      "[0.93969262 0.34202014]\n",
      "[0.90630779 0.42261826]\n",
      "[0.8660254 0.5      ]\n",
      "[0.81915204 0.57357644]\n",
      "[0.76604444 0.64278761]\n",
      "[0.70710678 0.70710678]\n",
      "[0.64278761 0.76604444]\n",
      "[0.57357644 0.81915204]\n",
      "[0.5       0.8660254]\n",
      "[0.42261826 0.90630779]\n",
      "[0.34202014 0.93969262]\n",
      "[0.25881905 0.96592583]\n",
      "[0.17364818 0.98480775]\n",
      "[0.08715574 0.9961947 ]\n",
      "[6.123234e-17 1.000000e+00]\n",
      "[-0.08715574  0.9961947 ]\n",
      "[-0.17364818  0.98480775]\n",
      "[-0.25881905  0.96592583]\n",
      "[-0.34202014  0.93969262]\n",
      "[-0.42261826  0.90630779]\n",
      "[-0.5        0.8660254]\n",
      "[-0.57357644  0.81915204]\n",
      "[-0.64278761  0.76604444]\n",
      "[-0.70710678  0.70710678]\n",
      "[-0.76604444  0.64278761]\n",
      "[-0.81915204  0.57357644]\n",
      "[-0.8660254  0.5      ]\n",
      "[-0.90630779  0.42261826]\n",
      "[-0.93969262  0.34202014]\n",
      "[-0.96592583  0.25881905]\n",
      "[-0.98480775  0.17364818]\n",
      "[-0.9961947   0.08715574]\n",
      "[-1.0000000e+00  1.2246468e-16]\n",
      "[-0.9961947  -0.08715574]\n",
      "[-0.98480775 -0.17364818]\n",
      "[-0.96592583 -0.25881905]\n",
      "[-0.93969262 -0.34202014]\n",
      "[-0.90630779 -0.42261826]\n",
      "[-0.8660254 -0.5      ]\n",
      "[-0.81915204 -0.57357644]\n",
      "[-0.76604444 -0.64278761]\n",
      "[-0.70710678 -0.70710678]\n",
      "[-0.64278761 -0.76604444]\n",
      "[-0.57357644 -0.81915204]\n",
      "[-0.5       -0.8660254]\n",
      "[-0.42261826 -0.90630779]\n",
      "[-0.34202014 -0.93969262]\n",
      "[-0.25881905 -0.96592583]\n",
      "[-0.17364818 -0.98480775]\n",
      "[-0.08715574 -0.9961947 ]\n",
      "[-1.8369702e-16 -1.0000000e+00]\n",
      "[ 0.08715574 -0.9961947 ]\n",
      "[ 0.17364818 -0.98480775]\n",
      "[ 0.25881905 -0.96592583]\n",
      "[ 0.34202014 -0.93969262]\n",
      "[ 0.42261826 -0.90630779]\n",
      "[ 0.5       -0.8660254]\n",
      "[ 0.57357644 -0.81915204]\n",
      "[ 0.64278761 -0.76604444]\n",
      "[ 0.70710678 -0.70710678]\n",
      "[ 0.76604444 -0.64278761]\n",
      "[ 0.81915204 -0.57357644]\n",
      "[ 0.8660254 -0.5      ]\n",
      "[ 0.90630779 -0.42261826]\n",
      "[ 0.93969262 -0.34202014]\n",
      "[ 0.96592583 -0.25881905]\n",
      "[ 0.98480775 -0.17364818]\n",
      "[ 0.9961947  -0.08715574]\n",
      "[ 1.0000000e+00 -2.4492936e-16]\n"
     ]
    }
   ],
   "source": [
    "from numpy import loadtxt\n",
    "\n",
    "data = loadtxt(\"SampleData1.txt\", delimiter = ' ')\n",
    "for i in data:\n",
    "    print(i)\n"
   ]
  },
  {
   "cell_type": "markdown",
   "id": "8eaf74aa",
   "metadata": {},
   "source": [
    "## Part b"
   ]
  },
  {
   "cell_type": "markdown",
   "id": "f4eac24c",
   "metadata": {},
   "source": [
    "It is the unit circle"
   ]
  },
  {
   "cell_type": "code",
   "execution_count": 49,
   "id": "d3ec9c98",
   "metadata": {
    "scrolled": true
   },
   "outputs": [
    {
     "name": "stdout",
     "output_type": "stream",
     "text": [
      "[1. 0.]\n",
      "[1. 5.]\n",
      "[ 1. 10.]\n",
      "[ 1. 15.]\n",
      "[ 1. 20.]\n",
      "[ 1. 25.]\n",
      "[ 1. 30.]\n",
      "[ 1. 35.]\n",
      "[ 1. 40.]\n",
      "[ 1. 45.]\n",
      "[ 1. 50.]\n",
      "[ 1. 55.]\n",
      "[ 1. 60.]\n",
      "[ 1. 65.]\n",
      "[ 1. 70.]\n",
      "[ 1. 75.]\n",
      "[ 1. 80.]\n",
      "[ 1. 85.]\n",
      "[ 1. 90.]\n",
      "[ 1. 95.]\n",
      "[  1. 100.]\n",
      "[  1. 105.]\n",
      "[  1. 110.]\n",
      "[  1. 115.]\n",
      "[  1. 120.]\n",
      "[  1. 125.]\n",
      "[  1. 130.]\n",
      "[  1. 135.]\n",
      "[  1. 140.]\n",
      "[  1. 145.]\n",
      "[  1. 150.]\n",
      "[  1. 155.]\n",
      "[  1. 160.]\n",
      "[  1. 165.]\n",
      "[  1. 170.]\n",
      "[  1. 175.]\n",
      "[  1. 180.]\n",
      "[  1. 185.]\n",
      "[  1. 190.]\n",
      "[  1. 195.]\n",
      "[  1. 200.]\n",
      "[  1. 205.]\n",
      "[  1. 210.]\n",
      "[  1. 215.]\n",
      "[  1. 220.]\n",
      "[  1. 225.]\n",
      "[  1. 230.]\n",
      "[  1. 235.]\n",
      "[  1. 240.]\n",
      "[  1. 245.]\n",
      "[  1. 250.]\n",
      "[  1. 255.]\n",
      "[  1. 260.]\n",
      "[  1. 265.]\n",
      "[  1. 270.]\n",
      "[  1. 275.]\n",
      "[  1. 280.]\n",
      "[  1. 285.]\n",
      "[  1. 290.]\n",
      "[  1. 295.]\n",
      "[  1. 300.]\n",
      "[  1. 305.]\n",
      "[  1. 310.]\n",
      "[  1. 315.]\n",
      "[  1. 320.]\n",
      "[  1. 325.]\n",
      "[  1. 330.]\n",
      "[  1. 335.]\n",
      "[  1. 340.]\n",
      "[  1. 345.]\n",
      "[  1. 350.]\n",
      "[  1. 355.]\n",
      "[  1. 360.]\n"
     ]
    }
   ],
   "source": [
    "from numpy import loadtxt\n",
    "data = loadtxt(\"SampleData1.txt\", delimiter = ' ')\n",
    "array_shape = np.shape(data)\n",
    "polar_shape = np.empty(array_shape)\n",
    "for i in np.arange(0,array_shape[0]):\n",
    "    polar_shape[i]=cartesian_to_polar(data[i,0], data[i,1])\n",
    "    print(polar_shape[i])"
   ]
  },
  {
   "cell_type": "markdown",
   "id": "791cf2d7",
   "metadata": {},
   "source": [
    "As seen above, the angles goes from 0 to 360"
   ]
  },
  {
   "cell_type": "code",
   "execution_count": null,
   "id": "39b90912",
   "metadata": {},
   "outputs": [],
   "source": []
  }
 ],
 "metadata": {
  "kernelspec": {
   "display_name": "Python 3 (ipykernel)",
   "language": "python",
   "name": "python3"
  },
  "language_info": {
   "codemirror_mode": {
    "name": "ipython",
    "version": 3
   },
   "file_extension": ".py",
   "mimetype": "text/x-python",
   "name": "python",
   "nbconvert_exporter": "python",
   "pygments_lexer": "ipython3",
   "version": "3.11.5"
  }
 },
 "nbformat": 4,
 "nbformat_minor": 5
}
