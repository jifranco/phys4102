{
 "cells": [
  {
   "cell_type": "markdown",
   "id": "8ea3d62e",
   "metadata": {},
   "source": [
    "# Problem 1"
   ]
  },
  {
   "cell_type": "code",
   "execution_count": 1,
   "id": "3a461080",
   "metadata": {},
   "outputs": [
    {
     "name": "stdout",
     "output_type": "stream",
     "text": [
      "Josue Franco\n"
     ]
    }
   ],
   "source": [
    "print('Josue Franco')"
   ]
  },
  {
   "cell_type": "markdown",
   "id": "c143d684",
   "metadata": {},
   "source": [
    "# Problem 2"
   ]
  },
  {
   "cell_type": "markdown",
   "id": "c915a24b",
   "metadata": {},
   "source": [
    "Newton's Gravitational Law\n",
    "\n",
    "$F = G(\\frac{M m} {r^2})$\n",
    "\n",
    "Centripetal Force\n",
    "\n",
    "$F = \\frac{mv^2}{r} = m\\omega^2 r$\n",
    "\n",
    "Set them Equal to Each Other\n",
    "\n",
    "$m\\omega^2 r$ = $G(\\frac{M m} {r^2})$\n",
    "\n",
    "The small m's cancel each other out\n",
    "\n",
    "$\\omega^2 r$ = $G(\\frac{M} {r^2})$\n",
    "\n",
    "Multiply the r to the left side and divide the Omega to the right side\n",
    "\n",
    "$r^3$ = $G(\\frac{M} {\\omega^2})$\n",
    "\n",
    "Cube Square root both sides\n",
    "\n",
    "$r$ = $(\\frac{GM} {\\omega^2})^{1/3}$\n",
    "\n",
    "Convert Omega to Orbital period using the frequency relation\n",
    "\n",
    "$\\frac {\\omega}{2\\pi} = f = \\frac {1}{T}$\n",
    "\n",
    "and Simplify to \n",
    "\n",
    "$\\omega = \\frac{2\\pi} {T}$\n",
    "\n",
    "Plug in to equation\n",
    "\n",
    "$(\\frac{G M T^2}{4 \\pi^2})^\\frac{1}{3}$\n",
    "\n",
    "For an object orbiting a planet of radius R at a distance h, substitute r and plug in \n",
    "\n",
    "$r = R + h$\n",
    "\n",
    "$R+h = (\\frac{G M T^2}{4 \\pi^2})^\\frac{1}{3} $\n",
    "\n",
    "Subtract R to the right side\n",
    "\n",
    "$h = (\\frac{G M T^2}{4 \\pi^2})^\\frac{1}{3} - R$\n",
    "\n",
    "\n",
    "Gravitational Force\n",
    "\n",
    "$G = 6.67 * 10^{-11} \\frac{m^3}{kg s^2}$\n",
    "\n",
    "Mass of the Earth\n",
    "\n",
    "$M = 5.97 * 10^{24} kg$\n",
    "\n",
    "Radius of the Earth\n",
    "\n",
    "$R = 6371 km$\n",
    "\n",
    "T is the period of the orbit in seconds\n"
   ]
  },
  {
   "cell_type": "code",
   "execution_count": 23,
   "id": "9ada86ad",
   "metadata": {},
   "outputs": [
    {
     "name": "stdout",
     "output_type": "stream",
     "text": [
      "Enter the period of the orbit in minutes: 92\n",
      "377483.56558647845\n"
     ]
    }
   ],
   "source": [
    "import numpy as np\n",
    "\n",
    "T = float(input(\"Enter the period of the orbit in minutes: \",)) *60\n",
    "\n",
    "G = 6.67e-11\n",
    "M = 5.97e24\n",
    "R = 6371e3\n",
    "\n",
    "h = ((G * M * T**2) / (4 * np.pi**2))**(1/3) - R\n",
    "\n",
    "print(h)"
   ]
  },
  {
   "cell_type": "code",
   "execution_count": 18,
   "id": "b931c2e0",
   "metadata": {},
   "outputs": [
    {
     "name": "stdout",
     "output_type": "stream",
     "text": [
      "-3615787.262745806\n"
     ]
    }
   ],
   "source": [
    "import numpy as np\n",
    "\n",
    "G = 6.67e-11\n",
    "M = 5.97e24\n",
    "R = 6371e3\n",
    "\n",
    "def altitude(T):\n",
    "    h = ((G * M * T**2) / (4 * np.pi**2))**(1/3) - R\n",
    "    return h\n",
    "\n",
    "geosynchronous_T = 24 * 60  \n",
    "altitude_geosynchronous = altitude(geosynchronous_T)\n",
    "\n",
    "print(altitude_geosynchronous)\n"
   ]
  },
  {
   "cell_type": "code",
   "execution_count": 13,
   "id": "548ac13a",
   "metadata": {},
   "outputs": [
    {
     "name": "stdout",
     "output_type": "stream",
     "text": [
      "At T = 90 minutes, the altitude is 279321.6253728606 meters\n",
      "At T = 89 minutes, the altitude is 229968.3050042782 meters\n",
      "At T = 88 minutes, the altitude is 180429.78960218746 meters\n",
      "At T = 87 minutes, the altitude is 130703.26773955952 meters\n",
      "At T = 86 minutes, the altitude is 80785.85243780725 meters\n",
      "At T = 85 minutes, the altitude is 30674.57823250536 meters\n",
      "At T = 84 minutes, the altitude is -19633.601910785772 meters\n",
      "At T = 83 minutes, the altitude is -70141.81984013412 meters\n",
      "At T = 82 minutes, the altitude is -120853.29563054815 meters\n",
      "At T = 81 minutes, the altitude is -171771.34117806423 meters\n",
      "At T = 80 minutes, the altitude is -222899.36398651917 meters\n"
     ]
    }
   ],
   "source": [
    "import numpy as np\n",
    "\n",
    "G = 6.67e-11\n",
    "M = 5.97e24\n",
    "R = 6371e3\n",
    "\n",
    "def altitude(T):\n",
    "    h = ((G * M * T**2) / (4 * np.pi**2))**(1/3) - R\n",
    "    return h\n",
    "\n",
    "T =  90\n",
    "while T>= 80:\n",
    "    alt = altitude(T*60)\n",
    "    print(f\"At T = {T} minutes, the altitude is {alt} meters\")\n",
    "    T -= 1\n",
    "\n",
    "\n",
    "\n",
    "\n",
    "\n"
   ]
  },
  {
   "cell_type": "markdown",
   "id": "c10c93fc",
   "metadata": {},
   "source": [
    "# Problem 3"
   ]
  },
  {
   "cell_type": "code",
   "execution_count": 53,
   "id": "1dc1e712",
   "metadata": {},
   "outputs": [
    {
     "ename": "KeyboardInterrupt",
     "evalue": "Interrupted by user",
     "output_type": "error",
     "traceback": [
      "\u001b[0;31m---------------------------------------------------------------------------\u001b[0m",
      "\u001b[0;31mKeyboardInterrupt\u001b[0m                         Traceback (most recent call last)",
      "Cell \u001b[0;32mIn[53], line 26\u001b[0m\n\u001b[1;32m     23\u001b[0m     \u001b[38;5;28;01mreturn\u001b[39;00m r, phi_degrees\n\u001b[1;32m     25\u001b[0m \u001b[38;5;66;03m# Test the function\u001b[39;00m\n\u001b[0;32m---> 26\u001b[0m x \u001b[38;5;241m=\u001b[39m \u001b[38;5;28mfloat\u001b[39m(\u001b[38;5;28minput\u001b[39m(\u001b[38;5;124m\"\u001b[39m\u001b[38;5;124mEnter the x-coordinate: \u001b[39m\u001b[38;5;124m\"\u001b[39m))\n\u001b[1;32m     27\u001b[0m y \u001b[38;5;241m=\u001b[39m \u001b[38;5;28mfloat\u001b[39m(\u001b[38;5;28minput\u001b[39m(\u001b[38;5;124m\"\u001b[39m\u001b[38;5;124mEnter the y-coordinate: \u001b[39m\u001b[38;5;124m\"\u001b[39m))\n\u001b[1;32m     29\u001b[0m r, phi \u001b[38;5;241m=\u001b[39m cartesian_to_polar(x, y)\n",
      "File \u001b[0;32m~/anaconda3/lib/python3.11/site-packages/ipykernel/kernelbase.py:1202\u001b[0m, in \u001b[0;36mKernel.raw_input\u001b[0;34m(self, prompt)\u001b[0m\n\u001b[1;32m   1200\u001b[0m     msg \u001b[38;5;241m=\u001b[39m \u001b[38;5;124m\"\u001b[39m\u001b[38;5;124mraw_input was called, but this frontend does not support input requests.\u001b[39m\u001b[38;5;124m\"\u001b[39m\n\u001b[1;32m   1201\u001b[0m     \u001b[38;5;28;01mraise\u001b[39;00m StdinNotImplementedError(msg)\n\u001b[0;32m-> 1202\u001b[0m \u001b[38;5;28;01mreturn\u001b[39;00m \u001b[38;5;28mself\u001b[39m\u001b[38;5;241m.\u001b[39m_input_request(\n\u001b[1;32m   1203\u001b[0m     \u001b[38;5;28mstr\u001b[39m(prompt),\n\u001b[1;32m   1204\u001b[0m     \u001b[38;5;28mself\u001b[39m\u001b[38;5;241m.\u001b[39m_parent_ident[\u001b[38;5;124m\"\u001b[39m\u001b[38;5;124mshell\u001b[39m\u001b[38;5;124m\"\u001b[39m],\n\u001b[1;32m   1205\u001b[0m     \u001b[38;5;28mself\u001b[39m\u001b[38;5;241m.\u001b[39mget_parent(\u001b[38;5;124m\"\u001b[39m\u001b[38;5;124mshell\u001b[39m\u001b[38;5;124m\"\u001b[39m),\n\u001b[1;32m   1206\u001b[0m     password\u001b[38;5;241m=\u001b[39m\u001b[38;5;28;01mFalse\u001b[39;00m,\n\u001b[1;32m   1207\u001b[0m )\n",
      "File \u001b[0;32m~/anaconda3/lib/python3.11/site-packages/ipykernel/kernelbase.py:1245\u001b[0m, in \u001b[0;36mKernel._input_request\u001b[0;34m(self, prompt, ident, parent, password)\u001b[0m\n\u001b[1;32m   1242\u001b[0m \u001b[38;5;28;01mexcept\u001b[39;00m \u001b[38;5;167;01mKeyboardInterrupt\u001b[39;00m:\n\u001b[1;32m   1243\u001b[0m     \u001b[38;5;66;03m# re-raise KeyboardInterrupt, to truncate traceback\u001b[39;00m\n\u001b[1;32m   1244\u001b[0m     msg \u001b[38;5;241m=\u001b[39m \u001b[38;5;124m\"\u001b[39m\u001b[38;5;124mInterrupted by user\u001b[39m\u001b[38;5;124m\"\u001b[39m\n\u001b[0;32m-> 1245\u001b[0m     \u001b[38;5;28;01mraise\u001b[39;00m \u001b[38;5;167;01mKeyboardInterrupt\u001b[39;00m(msg) \u001b[38;5;28;01mfrom\u001b[39;00m \u001b[38;5;28;01mNone\u001b[39;00m\n\u001b[1;32m   1246\u001b[0m \u001b[38;5;28;01mexcept\u001b[39;00m \u001b[38;5;167;01mException\u001b[39;00m:\n\u001b[1;32m   1247\u001b[0m     \u001b[38;5;28mself\u001b[39m\u001b[38;5;241m.\u001b[39mlog\u001b[38;5;241m.\u001b[39mwarning(\u001b[38;5;124m\"\u001b[39m\u001b[38;5;124mInvalid Message:\u001b[39m\u001b[38;5;124m\"\u001b[39m, exc_info\u001b[38;5;241m=\u001b[39m\u001b[38;5;28;01mTrue\u001b[39;00m)\n",
      "\u001b[0;31mKeyboardInterrupt\u001b[0m: Interrupted by user"
     ]
    }
   ],
   "source": [
    "import math\n",
    "\n",
    "def cartesian_to_polar(x, y):\n",
    "    \n",
    "    r = math.sqrt(x**2 + y**2)\n",
    "#     phi = math.atan2(y, x)\n",
    "#     phi_degrees = math.degrees(phi)\n",
    "    phi_degrees = 0\n",
    "    \n",
    "    if (x < 0 and y > 0):\n",
    "        phi_radians = np.arctan(y / x) + np.pi\n",
    "        phi_degrees = phi_radians * (180/np.pi)\n",
    "    elif (x < 0 and y < 0):\n",
    "        phi_radians = np.arctan(y / x) + np.pi\n",
    "        phi_degrees = phi_radians * (180/np.pi)\n",
    "    elif (x > 0 and y < 0):\n",
    "        phi_radians = np.arctan(y / x) + 2*np.pi\n",
    "        phi_degrees = phi_radians * (180/np.pi)\n",
    "    elif (x > 0 and y > 0):\n",
    "        phi_radians = np.arctan(y / x)\n",
    "        phi_degrees = phi_radians * (180/np.pi)\n",
    "    \n",
    "    return r, phi_degrees\n",
    "\n",
    "# Test the function\n",
    "x = float(input(\"Enter the x-coordinate: \"))\n",
    "y = float(input(\"Enter the y-coordinate: \"))\n",
    "\n",
    "r, phi = cartesian_to_polar(x, y)\n",
    "print(f\"The polar coordinates are (r, phi) = ({r}, {phi})\")"
   ]
  },
  {
   "cell_type": "code",
   "execution_count": 57,
   "id": "eb5c9b63",
   "metadata": {},
   "outputs": [
    {
     "name": "stdout",
     "output_type": "stream",
     "text": [
      "Enter r-coordinate: 10\n",
      "Enter the phi-coordinate in degrees: 238\n",
      "Cartesian coordinates: x = 7.241179868699295, y = -6.896761131802672\n"
     ]
    }
   ],
   "source": [
    "import numpy as np\n",
    "\n",
    "def polar_to_cart(r, phi):\n",
    "    x = r*np.cos(phi)\n",
    "    y = r* np.sin(phi)\n",
    "    \n",
    "    return(x,y)\n",
    "\n",
    "r = float(input(\"Enter r-coordinate: \"))\n",
    "phi_degrees = float(input(\"Enter the phi-coordinate in degrees: \"))\n",
    "\n",
    "x, y = polar_to_cart(r, phi_degrees)\n",
    "print(f\"Cartesian coordinates: x = {x}, y = {y}\")"
   ]
  },
  {
   "cell_type": "markdown",
   "id": "ca80a510",
   "metadata": {},
   "source": [
    "# Problem 4"
   ]
  },
  {
   "cell_type": "markdown",
   "id": "fa7fefee",
   "metadata": {},
   "source": [
    "The Lorentz Invariant\n",
    "\n",
    "$ s = \\left(\\frac{E}{c}\\right)^2 - px^2 - py^2 - pz^2 $\n",
    "\n",
    "The Energy-Momentum relation\n",
    "\n",
    "$ E^2 = p^2c^2 + m^2c^4$\n",
    "\n",
    "Substitute it back in the Invariant Equation\n",
    "\n",
    "$ s = \\left(\\frac{\\sqrt{(pc)^2 + (mc^2)^2}}{c}\\right)^2 - px^2 - py^2 - pz^2 $\n",
    "\n",
    "Factor out the 1/c^2\n",
    "\n",
    "$ s = \\frac{1}{c^2}\\left({\\sqrt{(pc)^2 + (mc^2)^2}}\\right)^2 - px^2 - py^2 - pz^2 $\n",
    "\n",
    "Simplify Further by canceling out the square root and power of 2\n",
    "\n",
    "$s = \\frac{1}{c^2}\\left((pc)^2 - c^2p^2 + (mc)^2c^2\\right)$\n",
    "\n",
    "Factor Out $c^2$ and cancel out $\\frac{1}{c^2}$ and $c^2$\n",
    "\n",
    "$s= p^2 - p^2 + m^2c^2$\n",
    "\n",
    "Subtract the p's and square root both sides\n",
    "\n",
    "$\\sqrt{s} = mc$\n"
   ]
  },
  {
   "cell_type": "code",
   "execution_count": 82,
   "id": "9b83c3ff",
   "metadata": {},
   "outputs": [
    {
     "name": "stdout",
     "output_type": "stream",
     "text": [
      "(9.892387265907367e-08+1615549442.1403513j)\n"
     ]
    }
   ],
   "source": [
    "import math\n",
    "\n",
    "def calculate_mass(particle):\n",
    "    # Check if the input is a list and has exactly four elements\n",
    "    if len(particle) != 4:\n",
    "        print(\"Invalid input. Please provide a list with four elements: [E, px, py, pz].\")\n",
    "        return -1\n",
    "\n",
    "    E, px, py, pz = particle\n",
    "    c=3.0e8\n",
    "    mass_energy = (((E/c)**2-(px**2+py**2+pz**2)*c**2)**.5)\n",
    "    return(mass_energy)\n",
    "    \n",
    "    \n",
    "    \n",
    "    \n",
    "    \n",
    "particle=[10,3,4,2]\n",
    "print(calculate_mass(particle))\n",
    "\n",
    "\n",
    "    "
   ]
  },
  {
   "cell_type": "code",
   "execution_count": 83,
   "id": "bc5e9396",
   "metadata": {},
   "outputs": [
    {
     "ename": "TypeError",
     "evalue": "float() argument must be a string or a real number, not 'complex'",
     "output_type": "error",
     "traceback": [
      "\u001b[0;31m---------------------------------------------------------------------------\u001b[0m",
      "\u001b[0;31mTypeError\u001b[0m                                 Traceback (most recent call last)",
      "Cell \u001b[0;32mIn[83], line 13\u001b[0m\n\u001b[1;32m     11\u001b[0m         py \u001b[38;5;241m=\u001b[39m pz \u001b[38;5;241m=\u001b[39m \u001b[38;5;241m0\u001b[39m  \u001b[38;5;66;03m# Momentum in eV\u001b[39;00m\n\u001b[1;32m     12\u001b[0m         particle \u001b[38;5;241m=\u001b[39m [E, px, py, pz]\n\u001b[0;32m---> 13\u001b[0m         mass_array[i, j] \u001b[38;5;241m=\u001b[39m calculate_mass(particle)\n\u001b[1;32m     15\u001b[0m \u001b[38;5;66;03m# Save the 2D array to a file\u001b[39;00m\n\u001b[1;32m     16\u001b[0m np\u001b[38;5;241m.\u001b[39msavetxt(\u001b[38;5;124m'\u001b[39m\u001b[38;5;124mmass_array.txt\u001b[39m\u001b[38;5;124m'\u001b[39m, mass_array)\n",
      "\u001b[0;31mTypeError\u001b[0m: float() argument must be a string or a real number, not 'complex'"
     ]
    }
   ],
   "source": [
    "import numpy as np\n",
    "\n",
    "# Initialize the 2D array\n",
    "mass_array = np.zeros((10, 10))\n",
    "\n",
    "# Loop over the range of E and px\n",
    "for i in range(10):\n",
    "    for j in range(10):\n",
    "        E = (i+1) * 1e9  # Energy in eV\n",
    "        px = (j+1) * 1e9  # Momentum in eV\n",
    "        py = pz = 0  # Momentum in eV\n",
    "        particle = [E, px, py, pz]\n",
    "        mass_array[i, j] = calculate_mass(particle)\n",
    "\n",
    "# Save the 2D array to a file\n",
    "np.savetxt('mass_array.txt', mass_array)\n",
    "\n",
    "print(\"The 2D array has been saved to 'mass_array.txt'.\")"
   ]
  },
  {
   "cell_type": "markdown",
   "id": "8ee1c982",
   "metadata": {},
   "source": [
    "# Problem 5\n"
   ]
  },
  {
   "cell_type": "code",
   "execution_count": 69,
   "id": "695b4ee5",
   "metadata": {},
   "outputs": [
    {
     "name": "stdout",
     "output_type": "stream",
     "text": [
      "The binding energy with atomic number 28 and Atomic mass number 58 is 497.5620206224374MeV\n"
     ]
    }
   ],
   "source": [
    "def bindingEnergy(A, Z): #function to calculate the binding energy\n",
    "    #Constants given for equation\n",
    "    a1 = 15.8\n",
    "    a2 = 18.3\n",
    "    a3 = .714\n",
    "    a4 = 23.2\n",
    "    #Conditions for a5\n",
    "    if A%2 == 1:\n",
    "        a5 = 0\n",
    "    elif A%2 & Z%2 == 0:\n",
    "        a5 = 12\n",
    "    elif A%2==0 & Z%2==1:\n",
    "        a5 = -12\n",
    "    else:\n",
    "        print(\"A or Z are invalid\") \n",
    "        \n",
    "    #Splitting the full equation into parts\n",
    "    E_pt1= a1*A - a2*A**(2/3)\n",
    "    E_pt2 = a3* ((Z**2)/(A**(1/3)))\n",
    "    E_pt3 = a4*((A-2*Z)**2/A)\n",
    "    E_pt4 = (a5)/A**(1/2)\n",
    "    \n",
    "    #Combine the equation parts\n",
    "    Ebind = E_pt1 - E_pt2 - E_pt3 + E_pt4\n",
    "    \n",
    "#   Returns the binding energy\n",
    "#     return(Ebind)\n",
    "    \n",
    "    #returns binding energy per nucleon\n",
    "    E_per_nucleon = Ebind / A\n",
    "    return(Ebind, E_per_nucleon)\n",
    "    \n",
    "    \n",
    "    \n",
    "#Part A where it calculates A=58 and Z =28\n",
    "a=58\n",
    "z=28\n",
    "bind = (bindingEnergy(a, z))\n",
    "print(f\"The binding energy with atomic number {z} and Atomic mass number {a} is {bind[0]}MeV\")\n",
    "\n",
    "\n",
    "\n",
    "\n"
   ]
  },
  {
   "cell_type": "markdown",
   "id": "4dbddd05",
   "metadata": {},
   "source": [
    "# Part B"
   ]
  },
  {
   "cell_type": "code",
   "execution_count": 71,
   "id": "17fe9e72",
   "metadata": {},
   "outputs": [
    {
     "name": "stdout",
     "output_type": "stream",
     "text": [
      "For A = 28 and Z = 28, the binding energy is -558.0178661529487 MeV and the binding energy per nucleon is -19.929209505462456 MeV.\n",
      "For A = 29 and Z = 28, the binding energy is -479.9360505020727 MeV and the binding energy per nucleon is -16.549518982830094 MeV.\n",
      "For A = 30 and Z = 28, the binding energy is -403.4195957384765 MeV and the binding energy per nucleon is -13.447319857949218 MeV.\n",
      "For A = 31 and Z = 28, the binding energy is -336.7255802300137 MeV and the binding energy per nucleon is -10.862115491290764 MeV.\n",
      "For A = 32 and Z = 28, the binding energy is -270.6495127675379 MeV and the binding energy per nucleon is -8.457797273985559 MeV.\n",
      "For A = 33 and Z = 28, the binding energy is -213.2975884524716 MeV and the binding energy per nucleon is -6.463563286438533 MeV.\n",
      "For A = 34 and Z = 28, the binding energy is -155.85196234085106 MeV and the binding energy per nucleon is -4.583881245319149 MeV.\n",
      "For A = 35 and Z = 28, the binding energy is -106.25722663506608 MeV and the binding energy per nucleon is -3.0359207610018877 MeV.\n",
      "For A = 36 and Z = 28, the binding energy is -56.02770169961394 MeV and the binding energy per nucleon is -1.5563250472114984 MeV.\n",
      "For A = 37 and Z = 28, the binding energy is -12.943326879344482 MeV and the binding energy per nucleon is -0.3498196453876887 MeV.\n",
      "For A = 38 and Z = 28, the binding energy is 31.191341403020527 MeV and the binding energy per nucleon is 0.8208247737636981 MeV.\n",
      "For A = 39 and Z = 28, the binding energy is 68.75960999537276 MeV and the binding energy per nucleon is 1.7630669229582758 MeV.\n",
      "For A = 40 and Z = 28, the binding energy is 107.69977281633473 MeV and the binding energy per nucleon is 2.6924943204083682 MeV.\n",
      "For A = 41 and Z = 28, the binding energy is 140.55442793498474 MeV and the binding energy per nucleon is 3.428156778902067 MeV.\n",
      "For A = 42 and Z = 28, the binding energy is 175.03140116191827 MeV and the binding energy per nucleon is 4.167414313379006 MeV.\n",
      "For A = 43 and Z = 28, the binding energy is 203.8272289673655 MeV and the binding energy per nucleon is 4.740168115520128 MeV.\n",
      "For A = 44 and Z = 28, the binding energy is 234.44119493781727 MeV and the binding energy per nucleon is 5.328208975859483 MeV.\n",
      "For A = 45 and Z = 28, the binding energy is 259.7177232684636 MeV and the binding energy per nucleon is 5.771504961521414 MeV.\n",
      "For A = 46 and Z = 28, the binding energy is 286.96587047183385 MeV and the binding energy per nucleon is 6.238388488518127 MeV.\n",
      "For A = 47 and Z = 28, the binding energy is 309.17162699330265 MeV and the binding energy per nucleon is 6.578119723261759 MeV.\n",
      "For A = 48 and Z = 28, the binding energy is 333.46934054871247 MeV and the binding energy per nucleon is 6.947277928098177 MeV.\n",
      "For A = 49 and Z = 28, the binding energy is 352.9802346629146 MeV and the binding energy per nucleon is 7.203678258426828 MeV.\n",
      "For A = 50 and Z = 28, the binding energy is 374.67726078171074 MeV and the binding energy per nucleon is 7.493545215634215 MeV.\n",
      "For A = 51 and Z = 28, the binding energy is 391.8106851529934 MeV and the binding energy per nucleon is 7.682562453980263 MeV.\n",
      "For A = 52 and Z = 28, the binding energy is 411.2036076077774 MeV and the binding energy per nucleon is 7.90776168476495 MeV.\n",
      "For A = 53 and Z = 28, the binding energy is 426.22937841730294 MeV and the binding energy per nucleon is 8.042063743722697 MeV.\n",
      "For A = 54 and Z = 28, the binding energy is 443.57135283974935 MeV and the binding energy per nucleon is 8.21428431184721 MeV.\n",
      "For A = 55 and Z = 28, the binding energy is 456.7202855755306 MeV and the binding energy per nucleon is 8.304005192282375 MeV.\n",
      "For A = 56 and Z = 28, the binding energy is 472.2287099682346 MeV and the binding energy per nucleon is 8.432655535147047 MeV.\n",
      "For A = 57 and Z = 28, the binding energy is 483.699406041829 MeV and the binding energy per nucleon is 8.485954491961913 MeV.\n",
      "For A = 58 and Z = 28, the binding energy is 497.5620206224374 MeV and the binding energy per nucleon is 8.578655527973059 MeV.\n",
      "For A = 59 and Z = 28, the binding energy is 507.526285533727 MeV and the binding energy per nucleon is 8.602140432775034 MeV.\n",
      "For A = 60 and Z = 28, the binding energy is 519.9060648065981 MeV and the binding energy per nucleon is 8.665101080109968 MeV.\n",
      "For A = 61 and Z = 28, the binding energy is 528.513269206638 MeV and the binding energy per nucleon is 8.664151954207181 MeV.\n",
      "For A = 62 and Z = 28, the binding energy is 539.5523763876572 MeV and the binding energy per nucleon is 8.70245768367189 MeV.\n",
      "For A = 63 and Z = 28, the binding energy is 546.9329929944508 MeV and the binding energy per nucleon is 8.681476079276997 MeV.\n",
      "For A = 64 and Z = 28, the binding energy is 556.7560000000001 MeV and the binding energy per nucleon is 8.699312500000001 MeV.\n",
      "For A = 65 and Z = 28, the binding energy is 563.0244924534668 MeV and the binding energy per nucleon is 8.661915268514873 MeV.\n",
      "For A = 66 and Z = 28, the binding energy is 571.7410198387086 MeV and the binding energy per nucleon is 8.662742724828917 MeV.\n",
      "For A = 67 and Z = 28, the binding energy is 576.9982178662509 MeV and the binding energy per nucleon is 8.611913699496283 MeV.\n",
      "For A = 68 and Z = 28, the binding energy is 584.7051130859302 MeV and the binding energy per nucleon is 8.598604604204855 MeV.\n",
      "For A = 69 and Z = 28, the binding energy is 589.0401774315876 MeV and the binding energy per nucleon is 8.536814165675183 MeV.\n",
      "For A = 70 and Z = 28, the binding energy is 595.8233229676769 MeV and the binding energy per nucleon is 8.511761756681098 MeV.\n",
      "For A = 71 and Z = 28, the binding energy is 599.3153803981694 MeV and the binding energy per nucleon is 8.441061695748864 MeV.\n",
      "For A = 72 and Z = 28, the binding energy is 605.2512031225776 MeV and the binding energy per nucleon is 8.406266710035801 MeV.\n",
      "For A = 73 and Z = 28, the binding energy is 607.9707143473948 MeV and the binding energy per nucleon is 8.328365949964313 MeV.\n",
      "For A = 74 and Z = 28, the binding energy is 613.1274521807202 MeV and the binding energy per nucleon is 8.285506110550273 MeV.\n",
      "For A = 75 and Z = 28, the binding energy is 615.1373622115441 MeV and the binding energy per nucleon is 8.201831496153922 MeV.\n",
      "For A = 76 and Z = 28, the binding energy is 619.576132428998 MeV and the binding energy per nucleon is 8.1523175319605 MeV.\n",
      "For A = 77 and Z = 28, the binding energy is 620.9328426821438 MeV and the binding energy per nucleon is 8.064062891975894 MeV.\n",
      "For A = 78 and Z = 28, the binding energy is 624.7085471897888 MeV and the binding energy per nucleon is 8.009083938330624 MeV.\n",
      "For A = 79 and Z = 28, the binding energy is 625.4627407270468 MeV and the binding energy per nucleon is 7.917249882620846 MeV.\n",
      "For A = 80 and Z = 28, the binding energy is 628.6248366198231 MeV and the binding energy per nucleon is 7.857810457747789 MeV.\n",
      "For A = 81 and Z = 28, the binding energy is 628.8221817607053 MeV and the binding energy per nucleon is 7.76323681186056 MeV.\n",
      "For A = 82 and Z = 28, the binding energy is 631.415339990086 MeV and the binding energy per nucleon is 7.700187073049829 MeV.\n",
      "For A = 83 and Z = 28, the binding energy is 631.097092694029 MeV and the binding energy per nucleon is 7.603579430048542 MeV.\n",
      "For A = 84 and Z = 28, the binding energy is 633.161763356253 MeV and the binding energy per nucleon is 7.537640039955393 MeV.\n"
     ]
    }
   ],
   "source": [
    "# #For Binding Energy per nucleon\n",
    "# #Binding Energy \n",
    "\n",
    "\n",
    "# bind = bindingEnergy(a, z)\n",
    "# print(f\"The binding energy per nucleon with atomic number {z} and Atomic mass number {a} is {bind[1]}\")\n",
    "\n",
    "# Part b\n",
    "for A in range(z, 3*z + 1):\n",
    "    Ebind, E_per_nucleon = bindingEnergy(A, z)\n",
    "    print(f\"For A = {A} and Z = {z}, the binding energy is {Ebind} MeV and the binding energy per nucleon is {E_per_nucleon} MeV.\")\n",
    "\n"
   ]
  },
  {
   "cell_type": "code",
   "execution_count": 74,
   "id": "ff23c59a",
   "metadata": {},
   "outputs": [
    {
     "name": "stdout",
     "output_type": "stream",
     "text": [
      "The most stable isotope has Z = 27, A = 60 with maximum binding energy per nucleon = 8.703395365721606 MeV.\n"
     ]
    }
   ],
   "source": [
    "max_E_per_nucleon = 0\n",
    "max_Z = 0\n",
    "max_A = 0\n",
    "for Z in range(1, 51):\n",
    "    for A in range(Z, 3*Z + 1):\n",
    "        Ebind, E_per_nucleon = bindingEnergy(A, Z)\n",
    "        if E_per_nucleon > max_E_per_nucleon:\n",
    "            max_E_per_nucleon = E_per_nucleon\n",
    "            max_Z = Z\n",
    "            max_A = A\n",
    "\n",
    "print(f\"The most stable isotope has Z = {max_Z}, A = {max_A} with maximum binding energy per nucleon = {max_E_per_nucleon} MeV.\")"
   ]
  },
  {
   "cell_type": "markdown",
   "id": "d6f9bf0d",
   "metadata": {},
   "source": [
    "# Problem 6"
   ]
  },
  {
   "cell_type": "markdown",
   "id": "910035ac",
   "metadata": {},
   "source": [
    "## Part a"
   ]
  },
  {
   "cell_type": "code",
   "execution_count": 1,
   "id": "2de02f88",
   "metadata": {},
   "outputs": [
    {
     "name": "stdout",
     "output_type": "stream",
     "text": [
      "[1. 0.]\n",
      "[0.9961947  0.08715574]\n",
      "[0.98480775 0.17364818]\n",
      "[0.96592583 0.25881905]\n",
      "[0.93969262 0.34202014]\n",
      "[0.90630779 0.42261826]\n",
      "[0.8660254 0.5      ]\n",
      "[0.81915204 0.57357644]\n",
      "[0.76604444 0.64278761]\n",
      "[0.70710678 0.70710678]\n",
      "[0.64278761 0.76604444]\n",
      "[0.57357644 0.81915204]\n",
      "[0.5       0.8660254]\n",
      "[0.42261826 0.90630779]\n",
      "[0.34202014 0.93969262]\n",
      "[0.25881905 0.96592583]\n",
      "[0.17364818 0.98480775]\n",
      "[0.08715574 0.9961947 ]\n",
      "[6.123234e-17 1.000000e+00]\n",
      "[-0.08715574  0.9961947 ]\n",
      "[-0.17364818  0.98480775]\n",
      "[-0.25881905  0.96592583]\n",
      "[-0.34202014  0.93969262]\n",
      "[-0.42261826  0.90630779]\n",
      "[-0.5        0.8660254]\n",
      "[-0.57357644  0.81915204]\n",
      "[-0.64278761  0.76604444]\n",
      "[-0.70710678  0.70710678]\n",
      "[-0.76604444  0.64278761]\n",
      "[-0.81915204  0.57357644]\n",
      "[-0.8660254  0.5      ]\n",
      "[-0.90630779  0.42261826]\n",
      "[-0.93969262  0.34202014]\n",
      "[-0.96592583  0.25881905]\n",
      "[-0.98480775  0.17364818]\n",
      "[-0.9961947   0.08715574]\n",
      "[-1.0000000e+00  1.2246468e-16]\n",
      "[-0.9961947  -0.08715574]\n",
      "[-0.98480775 -0.17364818]\n",
      "[-0.96592583 -0.25881905]\n",
      "[-0.93969262 -0.34202014]\n",
      "[-0.90630779 -0.42261826]\n",
      "[-0.8660254 -0.5      ]\n",
      "[-0.81915204 -0.57357644]\n",
      "[-0.76604444 -0.64278761]\n",
      "[-0.70710678 -0.70710678]\n",
      "[-0.64278761 -0.76604444]\n",
      "[-0.57357644 -0.81915204]\n",
      "[-0.5       -0.8660254]\n",
      "[-0.42261826 -0.90630779]\n",
      "[-0.34202014 -0.93969262]\n",
      "[-0.25881905 -0.96592583]\n",
      "[-0.17364818 -0.98480775]\n",
      "[-0.08715574 -0.9961947 ]\n",
      "[-1.8369702e-16 -1.0000000e+00]\n",
      "[ 0.08715574 -0.9961947 ]\n",
      "[ 0.17364818 -0.98480775]\n",
      "[ 0.25881905 -0.96592583]\n",
      "[ 0.34202014 -0.93969262]\n",
      "[ 0.42261826 -0.90630779]\n",
      "[ 0.5       -0.8660254]\n",
      "[ 0.57357644 -0.81915204]\n",
      "[ 0.64278761 -0.76604444]\n",
      "[ 0.70710678 -0.70710678]\n",
      "[ 0.76604444 -0.64278761]\n",
      "[ 0.81915204 -0.57357644]\n",
      "[ 0.8660254 -0.5      ]\n",
      "[ 0.90630779 -0.42261826]\n",
      "[ 0.93969262 -0.34202014]\n",
      "[ 0.96592583 -0.25881905]\n",
      "[ 0.98480775 -0.17364818]\n",
      "[ 0.9961947  -0.08715574]\n",
      "[ 1.0000000e+00 -2.4492936e-16]\n"
     ]
    }
   ],
   "source": [
    "from numpy import loadtxt\n",
    "data = loadtxt(\"SampleData1.txt\", delimiter = ' ')\n",
    "for i in data:\n",
    "    print(i)\n"
   ]
  },
  {
   "cell_type": "markdown",
   "id": "8eaf74aa",
   "metadata": {},
   "source": [
    "## Part b"
   ]
  },
  {
   "cell_type": "markdown",
   "id": "f4eac24c",
   "metadata": {},
   "source": [
    "It is the unit circle"
   ]
  },
  {
   "cell_type": "code",
   "execution_count": 59,
   "id": "d3ec9c98",
   "metadata": {
    "scrolled": true
   },
   "outputs": [
    {
     "name": "stdout",
     "output_type": "stream",
     "text": [
      "[1. 0.]\n",
      "[1. 5.]\n",
      "[ 1. 10.]\n",
      "[ 1. 15.]\n",
      "[ 1. 20.]\n",
      "[ 1. 25.]\n",
      "[ 1. 30.]\n",
      "[ 1. 35.]\n",
      "[ 1. 40.]\n",
      "[ 1. 45.]\n",
      "[ 1. 50.]\n",
      "[ 1. 55.]\n",
      "[ 1. 60.]\n",
      "[ 1. 65.]\n",
      "[ 1. 70.]\n",
      "[ 1. 75.]\n",
      "[ 1. 80.]\n",
      "[ 1. 85.]\n",
      "[ 1. 90.]\n",
      "[ 1. 95.]\n",
      "[  1. 100.]\n",
      "[  1. 105.]\n",
      "[  1. 110.]\n",
      "[  1. 115.]\n",
      "[  1. 120.]\n",
      "[  1. 125.]\n",
      "[  1. 130.]\n",
      "[  1. 135.]\n",
      "[  1. 140.]\n",
      "[  1. 145.]\n",
      "[  1. 150.]\n",
      "[  1. 155.]\n",
      "[  1. 160.]\n",
      "[  1. 165.]\n",
      "[  1. 170.]\n",
      "[  1. 175.]\n",
      "[  1. 180.]\n",
      "[  1. 185.]\n",
      "[  1. 190.]\n",
      "[  1. 195.]\n",
      "[  1. 200.]\n",
      "[  1. 205.]\n",
      "[  1. 210.]\n",
      "[  1. 215.]\n",
      "[  1. 220.]\n",
      "[  1. 225.]\n",
      "[  1. 230.]\n",
      "[  1. 235.]\n",
      "[  1. 240.]\n",
      "[  1. 245.]\n",
      "[  1. 250.]\n",
      "[  1. 255.]\n",
      "[  1. 260.]\n",
      "[  1. 265.]\n",
      "[  1. 270.]\n",
      "[  1. 275.]\n",
      "[  1. 280.]\n",
      "[  1. 285.]\n",
      "[  1. 290.]\n",
      "[  1. 295.]\n",
      "[  1. 300.]\n",
      "[  1. 305.]\n",
      "[  1. 310.]\n",
      "[  1. 315.]\n",
      "[  1. 320.]\n",
      "[  1. 325.]\n",
      "[  1. 330.]\n",
      "[  1. 335.]\n",
      "[  1. 340.]\n",
      "[  1. 345.]\n",
      "[  1. 350.]\n",
      "[  1. 355.]\n",
      "[  1. 360.]\n"
     ]
    }
   ],
   "source": [
    "from numpy import loadtxt\n",
    "data = loadtxt(\"SampleData1.txt\", delimiter = ' ')\n",
    "array_shape = np.shape(data)\n",
    "polar_shape = np.empty(array_shape)\n",
    "for i in np.arange(0,array_shape[0]):\n",
    "    polar_shape[i]=cartesian_to_polar(data[i,0], data[i,1])\n",
    "    print(polar_shape[i])"
   ]
  },
  {
   "cell_type": "markdown",
   "id": "791cf2d7",
   "metadata": {},
   "source": [
    "As seen above, the angles goes from 0 to 360"
   ]
  },
  {
   "cell_type": "code",
   "execution_count": null,
   "id": "39b90912",
   "metadata": {},
   "outputs": [],
   "source": []
  }
 ],
 "metadata": {
  "kernelspec": {
   "display_name": "Python 3 (ipykernel)",
   "language": "python",
   "name": "python3"
  },
  "language_info": {
   "codemirror_mode": {
    "name": "ipython",
    "version": 3
   },
   "file_extension": ".py",
   "mimetype": "text/x-python",
   "name": "python",
   "nbconvert_exporter": "python",
   "pygments_lexer": "ipython3",
   "version": "3.11.5"
  }
 },
 "nbformat": 4,
 "nbformat_minor": 5
}
