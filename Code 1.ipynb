{
 "cells": [
  {
   "cell_type": "code",
   "execution_count": 1,
   "id": "3a461080",
   "metadata": {},
   "outputs": [
    {
     "name": "stdout",
     "output_type": "stream",
     "text": [
      "Josue Franco\n"
     ]
    }
   ],
   "source": [
    "print('Josue Franco')"
   ]
  },
  {
   "cell_type": "markdown",
   "id": "c915a24b",
   "metadata": {},
   "source": [
    "Newton's Gravitational Law\n",
    "\n",
    "$F = G(\\frac{M m} {r^2})$\n",
    "\n",
    "Centripetal Force\n",
    "\n",
    "$F = \\frac{mv^2}{r} = m\\omega^2 r$\n",
    "\n",
    "Set them Equal to Each Other\n",
    "\n",
    "$m\\omega^2 r$ = $G(\\frac{M m} {r^2})$\n",
    "\n",
    "The small m's cancel each other out\n",
    "\n",
    "$\\omega^2 r$ = $G(\\frac{M} {r^2})$\n",
    "\n",
    "Multiply the r to the left side and divide the Omega to the right side\n",
    "\n",
    "$r^3$ = $G(\\frac{M} {\\omega^2})$\n",
    "\n",
    "Cube Square root both sides\n",
    "\n",
    "$r$ = $(\\frac{GM} {\\omega^2})^{1/3}$\n",
    "\n",
    "Convert Omega to Orbital period using the frequency relation\n",
    "\n",
    "$\\frac {\\omega}{2\\pi} = f = \\frac {1}{T}$\n",
    "\n",
    "and Simplify to \n",
    "\n",
    "$\\omega = \\frac{2\\pi} {T}$\n",
    "\n",
    "Plug in to equation\n",
    "\n",
    "$(\\frac{G M T^2}{4 \\pi^2})^\\frac{1}{3}$\n",
    "\n",
    "For an object orbiting a planet of radius R at a distance h, substitute r and plug in \n",
    "\n",
    "$r = R + h$\n",
    "\n",
    "$R+h = (\\frac{G M T^2}{4 \\pi^2})^\\frac{1}{3} $\n",
    "\n",
    "Subtract R to the right side\n",
    "\n",
    "$h = (\\frac{G M T^2}{4 \\pi^2})^\\frac{1}{3} - R$\n",
    "\n",
    "\n",
    "Gravitational Force\n",
    "\n",
    "$G = 6.67 * 10^{-11} \\frac{m^3}{kg s^2}$\n",
    "\n",
    "Mass of the Earth\n",
    "\n",
    "$M = 5.97 * 10^{24} kg$\n",
    "\n",
    "Radius of the Earth\n",
    "\n",
    "$R = 6371 km$\n",
    "\n",
    "T is the period of the orbit in seconds\n"
   ]
  },
  {
   "cell_type": "code",
   "execution_count": 7,
   "id": "9ada86ad",
   "metadata": {},
   "outputs": [
    {
     "name": "stdout",
     "output_type": "stream",
     "text": [
      "Enter the period of the orbit in minutes: 92.68\n",
      "410696.1325276494\n"
     ]
    }
   ],
   "source": [
    "import numpy as np\n",
    "\n",
    "T = float(input(\"Enter the period of the orbit in minutes: \",)) *60\n",
    "\n",
    "G = 6.67e-11\n",
    "M = 5.97e24\n",
    "R = 6371e3\n",
    "\n",
    "h = ((G * M * T**2) / (4 * np.pi**2))**(1/3) - R\n",
    "\n",
    "print(h)"
   ]
  },
  {
   "cell_type": "code",
   "execution_count": 18,
   "id": "b931c2e0",
   "metadata": {},
   "outputs": [
    {
     "name": "stdout",
     "output_type": "stream",
     "text": [
      "-3615787.262745806\n"
     ]
    }
   ],
   "source": [
    "import numpy as np\n",
    "\n",
    "G = 6.67e-11\n",
    "M = 5.97e24\n",
    "R = 6371e3\n",
    "\n",
    "def altitude(T):\n",
    "    h = ((G * M * T**2) / (4 * np.pi**2))**(1/3) - R\n",
    "    return h\n",
    "\n",
    "geosynchronous_T = 24 * 60  \n",
    "altitude_geosynchronous = altitude(geosynchronous_T)\n",
    "\n",
    "print(altitude_geosynchronous)\n"
   ]
  },
  {
   "cell_type": "code",
   "execution_count": 13,
   "id": "548ac13a",
   "metadata": {},
   "outputs": [
    {
     "name": "stdout",
     "output_type": "stream",
     "text": [
      "At T = 90 minutes, the altitude is 279321.6253728606 meters\n",
      "At T = 89 minutes, the altitude is 229968.3050042782 meters\n",
      "At T = 88 minutes, the altitude is 180429.78960218746 meters\n",
      "At T = 87 minutes, the altitude is 130703.26773955952 meters\n",
      "At T = 86 minutes, the altitude is 80785.85243780725 meters\n",
      "At T = 85 minutes, the altitude is 30674.57823250536 meters\n",
      "At T = 84 minutes, the altitude is -19633.601910785772 meters\n",
      "At T = 83 minutes, the altitude is -70141.81984013412 meters\n",
      "At T = 82 minutes, the altitude is -120853.29563054815 meters\n",
      "At T = 81 minutes, the altitude is -171771.34117806423 meters\n",
      "At T = 80 minutes, the altitude is -222899.36398651917 meters\n"
     ]
    }
   ],
   "source": [
    "import numpy as np\n",
    "\n",
    "G = 6.67e-11\n",
    "M = 5.97e24\n",
    "R = 6371e3\n",
    "\n",
    "def altitude(T):\n",
    "    h = ((G * M * T**2) / (4 * np.pi**2))**(1/3) - R\n",
    "    return h\n",
    "\n",
    "T =  90\n",
    "while T>= 80:\n",
    "    alt = altitude(T*60)\n",
    "    print(f\"At T = {T} minutes, the altitude is {alt} meters\")\n",
    "    T -= 1\n",
    "\n",
    "\n",
    "\n",
    "\n",
    "\n"
   ]
  },
  {
   "cell_type": "code",
   "execution_count": 20,
   "id": "226fa576",
   "metadata": {},
   "outputs": [
    {
     "name": "stdout",
     "output_type": "stream",
     "text": [
      "Enter x-coordinate: 3\n",
      "Enter the y-coordinate: 3\n",
      "Polar coordinates: r = 4.242640687119285, phi = 45.0 in quadrant 1\n"
     ]
    }
   ],
   "source": [
    "import numpy as np\n",
    "x = float(input(\"Enter x-coordinate: \"))\n",
    "y = float(input(\"Enter the y-coordinate: \"))\n",
    "\n",
    "r = np.sqrt(x**2 + y**2) #converts x and y to r\n",
    "phi = np.arctan(y/x) #converts x and y to phi\n",
    "\n",
    "phi_degrees = np.degrees(phi) #converts phi to degrees\n",
    "\n",
    "if x > 0 and y >0:\n",
    "    quadrant = 1\n",
    "elif x<0 and y >0:\n",
    "    quadrant = 2\n",
    "elif x<0 and y<0:\n",
    "    quadrant = 3\n",
    "elif x>0 and y <0:\n",
    "    quadrant = 4\n",
    "else:\n",
    "    quadrant = None\n",
    "    \n",
    "print(f\"Polar coordinates: r = {r}, phi = {phi_degrees} in quadrant {quadrant}\")"
   ]
  },
  {
   "cell_type": "code",
   "execution_count": 21,
   "id": "eb5c9b63",
   "metadata": {},
   "outputs": [
    {
     "name": "stdout",
     "output_type": "stream",
     "text": [
      "Enter r-coordinate: 6\n",
      "Enter the phi-coordinate in degrees: 75\n",
      "Cartesian coordinates: x = 5.530507618348496, y = -2.326689812456583 in quadrant 1\n"
     ]
    }
   ],
   "source": [
    "import numpy as np\n",
    "r = float(input(\"Enter r-coordinate: \"))\n",
    "phi = float(input(\"Enter the phi-coordinate in degrees: \"))\n",
    "\n",
    "x = r*np.cos(phi)\n",
    "y = r* np.sin(phi)\n",
    "\n",
    "if 0 <= phi_degrees < 90:\n",
    "    quadrant = 1\n",
    "elif 90 <= phi_degrees < 180:\n",
    "    quadrant = 2\n",
    "elif 180 <= phi_degrees < 270:\n",
    "    quadrant = 3\n",
    "elif 270 <= phi_degrees < 360:\n",
    "    quadrant = 4\n",
    "else:\n",
    "    quadrant = None\n",
    "    \n",
    "print(f\"Cartesian coordinates: x = {x}, y = {y} in quadrant {quadrant}\")"
   ]
  },
  {
   "cell_type": "markdown",
   "id": "fa7fefee",
   "metadata": {},
   "source": [
    "The Lorentz Invariant\n",
    "\n",
    "$ s = \\left(\\frac{E}{c}\\right)^2 - px^2 - py^2 - pz^2 $\n",
    "\n",
    "The Energy-Momentum relation\n",
    "\n",
    "$ E^2 = p^2c^2 + m^2c^4$\n",
    "\n",
    "Substitute it back in the Invariant Equation\n",
    "\n",
    "$ s = \\left(\\frac{\\sqrt{(pc)^2 + (mc^2)^2}}{c}\\right)^2 - px^2 - py^2 - pz^2 $\n",
    "\n",
    "Take "
   ]
  },
  {
   "cell_type": "code",
   "execution_count": null,
   "id": "9b83c3ff",
   "metadata": {},
   "outputs": [],
   "source": []
  }
 ],
 "metadata": {
  "kernelspec": {
   "display_name": "Python 3 (ipykernel)",
   "language": "python",
   "name": "python3"
  },
  "language_info": {
   "codemirror_mode": {
    "name": "ipython",
    "version": 3
   },
   "file_extension": ".py",
   "mimetype": "text/x-python",
   "name": "python",
   "nbconvert_exporter": "python",
   "pygments_lexer": "ipython3",
   "version": "3.11.5"
  }
 },
 "nbformat": 4,
 "nbformat_minor": 5
}
